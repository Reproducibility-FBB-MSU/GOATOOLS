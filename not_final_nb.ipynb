{
 "cells": [
  {
   "cell_type": "markdown",
   "metadata": {},
   "source": [
    "# FBB_Reproducibility GOATOOLS: A Python library for Gene Ontology analyses"
   ]
  },
  {
   "cell_type": "markdown",
   "metadata": {},
   "source": [
    "### Part #1.1: Подготовка датасета: DAVID 6.7, DAVID 6.8"
   ]
  },
  {
   "cell_type": "markdown",
   "metadata": {},
   "source": [
    "Для воспроизведения результатов статьи \"GOATOOLS: A Python library for Gene Ontology analyses\" (https://www.nature.com/articles/s41598-018-28948-z) были использованы данные из Supplementary Table 1 в статье \"Conserved epigenomic signals in mice and humans reveal immune basis of Alzheimer’s disease\" (https://www.ncbi.nlm.nih.gov/pmc/articles/PMC4530583/)."
   ]
  },
  {
   "cell_type": "markdown",
   "metadata": {},
   "source": [
    "Создавался файл с Ensembl ID, который в последствии подавался на вход различным тулам."
   ]
  },
  {
   "cell_type": "code",
   "execution_count": 1,
   "metadata": {},
   "outputs": [],
   "source": [
    "import pandas as pd\n",
    "df = pd.read_excel('nature14252-s1.xlsx', sheet_name='masterInfo.4.3.7.txt', header=1)\n",
    "cols = [4,9]\n",
    "new_df = df.drop(df.columns[cols], axis=1)\n",
    "new_df['Ensembl ID'].to_csv('Ensembl_ID.txt', sep='\\t', index=False)"
   ]
  },
  {
   "cell_type": "markdown",
   "metadata": {},
   "source": [
    "Код ниже выводит количество генов в определённом кластере. "
   ]
  },
  {
   "cell_type": "code",
   "execution_count": 17,
   "metadata": {},
   "outputs": [
    {
     "name": "stdout",
     "output_type": "stream",
     "text": [
      "Transient Increase = 624\n",
      "Consistent Increase = 794\n",
      "Late Increase = 1397\n",
      "Transient Decrease = 142\n",
      "Consistent Decrease = 1029\n",
      "Late Decrease = 1139\n",
      "Total = 13836\n"
     ]
    }
   ],
   "source": [
    "tr_in = (new_df.Cluster.values == 'Transient Increase').sum()\n",
    "con_in = (new_df.Cluster.values == 'Consistent Increase').sum()\n",
    "late_in = (new_df.Cluster.values == 'Late Increase').sum()\n",
    "tr_de = (new_df.Cluster.values == 'Transient Decrease').sum()\n",
    "con_de = (new_df.Cluster.values == 'Consistent Decrease').sum()\n",
    "late_de = (new_df.Cluster.values == 'Late Decrease').sum()\n",
    "none = (new_df.Cluster.values == 'None').sum()\n",
    "all_genes = tr_in + con_in + late_in + con_de + late_de + tr_de + none\n",
    "print('Transient Increase = ' + str(tr_in))\n",
    "print('Consistent Increase = ' + str(con_in))\n",
    "print('Late Increase = ' + str(late_in))\n",
    "print('Transient Decrease = ' + str(tr_de))\n",
    "print('Consistent Decrease = ' + str(con_de))\n",
    "print('Late Decrease = ' + str(late_de))\n",
    "print('Total = ' + str(all_genes))"
   ]
  },
  {
   "cell_type": "markdown",
   "metadata": {},
   "source": [
    "К сожалению, из-за большого списка генов (13836) использовать APi не рекомендовалось в DAVID 6.7 и 6.8, поэтому данные были поданы на вход вручную, а результат обработан далее в этом работе."
   ]
  },
  {
   "cell_type": "code",
   "execution_count": 2,
   "metadata": {},
   "outputs": [],
   "source": [
    "df68 = pd.read_csv('6.8_DIRECT.txt', sep=\"\\t\")\n",
    "df67 = pd.read_csv('6.7_ALL.txt', sep=\"\\t\")\n",
    "df68['PValue'].to_csv('6.8_PValue.txt', sep='\\t', index=False)\n",
    "df67['PValue'].to_csv('6.7_PValue.txt', sep='\\t', index=False)"
   ]
  },
  {
   "cell_type": "markdown",
   "metadata": {},
   "source": [
    "### Part #1.2: Подготовка датасета: GOATools"
   ]
  },
  {
   "cell_type": "markdown",
   "metadata": {},
   "source": [
    "Подготовку GOstats мы не делали, так как она осуществляется с помощью R, а у нас лапки"
   ]
  },
  {
   "cell_type": "code",
   "execution_count": 19,
   "metadata": {},
   "outputs": [],
   "source": [
    "from goatools.base import download_go_basic_obo\n",
    "import os\n",
    "if not os.path.exists('go-basic.obo'):\n",
    "    # Get http://geneontology.org/ontology/go-basic.obo\n",
    "    download_go_basic_obo()\n"
   ]
  },
  {
   "cell_type": "code",
   "execution_count": 20,
   "metadata": {},
   "outputs": [
    {
     "name": "stdout",
     "output_type": "stream",
     "text": [
      "  EXISTS: gene2go\n"
     ]
    }
   ],
   "source": [
    "from goatools.base import download_ncbi_associations  # Download Associations\n",
    "fin_gene2go = download_ncbi_associations() # занимает много времени: ~20mins\n"
   ]
  },
  {
   "cell_type": "code",
   "execution_count": 21,
   "metadata": {},
   "outputs": [
    {
     "name": "stdout",
     "output_type": "stream",
     "text": [
      "go-basic.obo: fmt(1.2) rel(2019-05-09) 47,407 GO Terms\n"
     ]
    }
   ],
   "source": [
    "from goatools.obo_parser import GODag\n",
    "obodag = GODag(\"go-basic.obo\")  # Load Ontologies\n"
   ]
  },
  {
   "cell_type": "code",
   "execution_count": 22,
   "metadata": {},
   "outputs": [
    {
     "name": "stdout",
     "output_type": "stream",
     "text": [
      "HMS:0:00:07.609479 363,913 annotations READ: gene2go \n",
      "1 taxids stored: 10090\n",
      "MF 16,802 annotated mouse genes\n",
      "MF   11287 : GO:0002020 GO:0004866 GO:0004867 GO:0030414 GO:0044877 GO:0048403 GO:0048406\n",
      "MF   11298 : GO:0004059 GO:0004060 GO:0016740 GO:0016746 GO:0071889\n",
      "MF   11302 : GO:0000166 GO:0004672 GO:0004674 GO:0004713 GO:0005515 GO:0005524 GO:0016301 GO:0016740\n",
      "CC 18,929 annotated mouse genes\n",
      "CC   11287 : GO:0005576 GO:0005615 GO:0062023\n",
      "CC   11298 : GO:0005737 GO:0005829 GO:0048471\n",
      "CC   11302 : GO:0005737 GO:0005783 GO:0016020 GO:0016021 GO:0042995 GO:0044295 GO:0048471 GO:0055037\n",
      "BP 17,738 annotated mouse genes\n",
      "BP   11287 : GO:0007566 GO:0010466\n",
      "BP   11298 : GO:0006474 GO:0007623 GO:0009416 GO:0009648 GO:0010043 GO:0014070 GO:0030187 GO:0032868 GO:0034695 GO:0046688 GO:0048511 GO:0071320\n",
      "BP   11302 : GO:0006468 GO:0006915 GO:0007420 GO:0016310 GO:0030517 GO:0032482 GO:0038083 GO:0046777 GO:0051402\n"
     ]
    }
   ],
   "source": [
    "from goatools.anno.genetogo_reader import Gene2GoReader\n",
    "\n",
    "# Read NCBI's gene2go. Store annotations in a list of namedtuples\n",
    "objanno = Gene2GoReader(fin_gene2go, taxids=[10090])\n",
    "\n",
    "# Get namespace2association where:\n",
    "#    namespace is:\n",
    "#        BP: biological_process\n",
    "#        MF: molecular_function\n",
    "#        CC: cellular_component\n",
    "#    assocation is a dict:\n",
    "#        key: NCBI GeneID\n",
    "#        value: A set of GO IDs associated with that gene\n",
    "ns2assoc = objanno.get_ns2assc()\n",
    "\n",
    "for nspc, id2gos in ns2assoc.items():\n",
    "    print(\"{NS} {N:,} annotated mouse genes\".format(NS=nspc, N=len(id2gos)))\n",
    "    for protein_id, go_ids in sorted(id2gos.items())[:3]:\n",
    "        print(\"{NS} {PROT:7} : {GOs}\".format(\n",
    "            NS=nspc,\n",
    "            PROT=protein_id,\n",
    "            GOs=' '.join(sorted(go_ids))))\n"
   ]
  },
  {
   "cell_type": "code",
   "execution_count": 23,
   "metadata": {},
   "outputs": [
    {
     "name": "stdout",
     "output_type": "stream",
     "text": [
      "\n",
      "Load BP Gene Ontology Analysis ...\n",
      "fisher module not installed.  Falling back on scipy.stats.fisher_exact\n",
      " 59% 16,748 of 28,212 population items found in association\n",
      "\n",
      "Load CC Gene Ontology Analysis ...\n",
      "fisher module not installed.  Falling back on scipy.stats.fisher_exact\n",
      " 65% 18,278 of 28,212 population items found in association\n",
      "\n",
      "Load MF Gene Ontology Analysis ...\n",
      "fisher module not installed.  Falling back on scipy.stats.fisher_exact\n",
      " 58% 16,418 of 28,212 population items found in association\n"
     ]
    }
   ],
   "source": [
    "from goatools.test_data.genes_NCBI_10090_ProteinCoding import GENEID2NT as GeneID2nt_mus\n",
    "from goatools.goea.go_enrichment_ns import GOEnrichmentStudyNS\n",
    "\n",
    "goeaobj = GOEnrichmentStudyNS(\n",
    "    GeneID2nt_mus.keys(),  # List of mouse protein-coding genes\n",
    "    ns2assoc,  # geneid/GO associations\n",
    "    obodag,  # Ontologies\n",
    "    propagate_counts=False,\n",
    "    alpha=0.05,  # default significance cut-off\n",
    "    methods=['fdr_bh'])  # defult multipletest correction method\n"
   ]
  },
  {
   "cell_type": "code",
   "execution_count": 24,
   "metadata": {},
   "outputs": [
    {
     "name": "stdout",
     "output_type": "stream",
     "text": [
      "13439 genes READ: dataf.xlsx\n"
     ]
    }
   ],
   "source": [
    "geneid2symbol = {}\n",
    "# Read data\n",
    "if os.path.isfile(\"dataf.xlsx\"):\n",
    "    import xlrd\n",
    "    book = xlrd.open_workbook(\"dataf.xlsx\")\n",
    "    pg = book.sheet_by_index(0)\n",
    "    for r in range(pg.nrows):\n",
    "        symbol, geneid, pval = [pg.cell_value(r, c) for c in range(pg.ncols)]\n",
    "        if geneid:\n",
    "            geneid2symbol[int(geneid)] = symbol\n",
    "    print('{N} genes READ: {XLSX}'.format(N=len(geneid2symbol), XLSX=\"dataf.xlsx\"))\n",
    "else:\n",
    "    raise RuntimeError('FILE NOT FOUND: {XLSX}'.format(XLSX=\"dataf.xlsx\"))\n"
   ]
  },
  {
   "cell_type": "code",
   "execution_count": 25,
   "metadata": {},
   "outputs": [
    {
     "name": "stdout",
     "output_type": "stream",
     "text": [
      "\n",
      "Run BP Gene Ontology Analysis: current study set of 13439 IDs ...\n",
      " 86% 11,101 of 12,873 study items found in association\n",
      " 96% 12,873 of 13,439 study items found in population(28212)\n",
      "Calculating 12,192 uncorrected p-values using fisher_scipy_stats\n",
      "  12,192 GO terms are associated with 16,748 of 28,212 population items\n",
      "  10,981 GO terms are associated with 11,101 of 13,439 study items\n",
      "  METHOD fdr_bh:\n",
      "   1,835 GO terms found significant (< 0.05=alpha) (1808 enriched +  27 purified): statsmodels fdr_bh\n",
      "  10,647 study items associated with significant GO IDs (enriched)\n",
      "     451 study items associated with significant GO IDs (purified)\n",
      "\n",
      "Run CC Gene Ontology Analysis: current study set of 13439 IDs ...\n",
      " 92% 11,820 of 12,873 study items found in association\n",
      " 96% 12,873 of 13,439 study items found in population(28212)\n",
      "Calculating 1,725 uncorrected p-values using fisher_scipy_stats\n",
      "   1,725 GO terms are associated with 18,278 of 28,212 population items\n",
      "   1,640 GO terms are associated with 11,820 of 13,439 study items\n",
      "  METHOD fdr_bh:\n",
      "     578 GO terms found significant (< 0.05=alpha) (574 enriched +   4 purified): statsmodels fdr_bh\n",
      "  11,639 study items associated with significant GO IDs (enriched)\n",
      "      60 study items associated with significant GO IDs (purified)\n",
      "\n",
      "Run MF Gene Ontology Analysis: current study set of 13439 IDs ...\n",
      " 82% 10,605 of 12,873 study items found in association\n",
      " 96% 12,873 of 13,439 study items found in population(28212)\n",
      "Calculating 4,130 uncorrected p-values using fisher_scipy_stats\n",
      "   4,130 GO terms are associated with 16,418 of 28,212 population items\n",
      "   3,646 GO terms are associated with 10,605 of 13,439 study items\n",
      "  METHOD fdr_bh:\n",
      "     609 GO terms found significant (< 0.05=alpha) (576 enriched +  33 purified): statsmodels fdr_bh\n",
      "  10,156 study items associated with significant GO IDs (enriched)\n",
      "     479 study items associated with significant GO IDs (purified)\n"
     ]
    }
   ],
   "source": [
    "geneids_study = geneid2symbol.keys()\n",
    "goea_results_all = goeaobj.run_study(geneids_study)\n",
    "goea_results_sig = [r for r in goea_results_all if r.p_fdr_bh < 0.05]"
   ]
  },
  {
   "cell_type": "code",
   "execution_count": 26,
   "metadata": {},
   "outputs": [
    {
     "name": "stdout",
     "output_type": "stream",
     "text": [
      "   3022 items WROTE: nbt3102.xlsx\n"
     ]
    }
   ],
   "source": [
    "# Для удосбтва пишем в xls, потому что в txt есть как \\t так и пробелы. Неудобно читать в df\n",
    "goeaobj.wr_xlsx(\"nbt3102.xlsx\", goea_results_sig)\n",
    "# Для скорости пишем в txt формат\n",
    "# goeaobj.wr_txt(\"nbt3102.txt\", goea_results_sig)"
   ]
  },
  {
   "cell_type": "markdown",
   "metadata": {},
   "source": [
    "### Part 2: Обработка датасета"
   ]
  },
  {
   "cell_type": "code",
   "execution_count": 27,
   "metadata": {},
   "outputs": [
    {
     "name": "stdout",
     "output_type": "stream",
     "text": [
      "go-basic.obo: fmt(1.2) rel(2019-05-09) 47,407 GO Terms; optional_attrs(relationship)\n"
     ]
    }
   ],
   "source": [
    "from goatools import obo_parser as op\n",
    "from goatools.base import download_go_basic_obo\n",
    "import os\n",
    "if not os.path.exists('go-basic.obo'):\n",
    "    # Get http://geneontology.org/ontology/go-basic.obo\n",
    "    download_go_basic_obo()\n",
    "# Holds a GO Directed Acyclic Graph (DAG) as a dict. Дополнительная опция relationship для того, чтобы подтянуть relationships\n",
    "# из 'go-basic.obo'. По дефолту отключён для оптимизации работы программы\n",
    "go = op.GODag('go-basic.obo', optional_attrs=['relationship'])\n"
   ]
  },
  {
   "cell_type": "code",
   "execution_count": null,
   "metadata": {},
   "outputs": [],
   "source": [
    "# Создаём .csv в формате 'GO id,all_lowers\\n'\n",
    "with open('descendants_quantity.csv', 'w') as output:\n",
    "    ids = []\n",
    "    for id in go:\n",
    "        # Метод DAGTerm.get_all_lower() возвращает всех детей=потомков\n",
    "        # (=поля 'relationshipis' + инвертированное 'is_a'\n",
    "        to_write = id + ',' + str(len(go[id].get_all_lower())) + '\\n'\n",
    "        output.write(to_write)\n"
   ]
  },
  {
   "cell_type": "code",
   "execution_count": 31,
   "metadata": {},
   "outputs": [],
   "source": [
    "import pandas as pd\n",
    "goat_descendants = pd.read_csv(\n",
    "    'descendants_quantity.csv',\n",
    "    sep=',',\n",
    "    header=None)\n",
    "goat_descendants_dict = {}\n",
    "# Делаем словарь в формате ключ-GO id, значение- число потомков\n",
    "for row in goat_descendants.itertuples():\n",
    "    goat_descendants_dict[row[1]] = row[2]\n"
   ]
  },
  {
   "cell_type": "code",
   "execution_count": 36,
   "metadata": {},
   "outputs": [],
   "source": [
    "import numpy as np\n",
    "from scipy.stats import pearsonr\n",
    "# Необходим скачанный датасет. Число генов слишком большое для использования Api =>\n",
    "# => необходимо вручную загрузить на сайт\n",
    "# Названия датасетов могут отличаться :) так что нужно писать ваше\n",
    "datasets = [\"6.8_DIRECT.txt\", \"6.7_ALL.txt\", \"nbt3102.xlsx\"]\n",
    "\n",
    "\n",
    "def dcnt_assg_count(data):\n",
    "    pearsonrs = []\n",
    "    plots = {}\n",
    "    for dataset in data:\n",
    "        # Разделяем столбец Term по тильде '~' и добавляем новообразовавшиеся 2\n",
    "        # столбца в конце датафрейма\n",
    "        if dataset != \"nbt3102.xlsx\":\n",
    "            df = pd.read_csv(dataset, sep='\\t')\n",
    "            df[['Id', 'Description']] = df.Term.str.split(\"~\", expand=True)\n",
    "        else:\n",
    "            df = pd.read_excel(\"nbt3102.xlsx\", header=0, sheet_name=\"Sheet1\")\n",
    "            df.rename(\n",
    "                columns={\n",
    "                    'GO': 'Id',\n",
    "                    'study_items': 'Genes',\n",
    "                    'p_fdr_bh': 'PValue'},\n",
    "                inplace=True)\n",
    "        # Отсев потенциально случайных находок. P-value <= 0.05\n",
    "        df = df[df['PValue'] <= 0.05]\n",
    "        ass_genes = {}\n",
    "        # Для каждого GO id в goat_descendants находим соответствующее ему число ассоциированных белков и добавляет в словарь по ключу\n",
    "        # этого GO id. Проверяем, находится ли вообще строка с таким GO id. Если нет - Nan.\n",
    "        # В итоге получаем словарь, где ключи - все последовательно идущие GO\n",
    "        # id в исходном go-basic.obo, а значения - число ассоц.генов\n",
    "        for id in goat_descendants[0]:\n",
    "            ass_genes_num = 0 if len(df[df['Id'] == id]) == 0 else len(\n",
    "                df[df['Id'] == id].iloc[0]['Genes'].split(','))\n",
    "            ass_genes[id] = [ass_genes_num]\n",
    "        # Идём по ключам словаря с ассоц.генами, находим совпадение в df с\n",
    "        # числом потомков, добавляет в список по ключу число потомков\n",
    "        for key in ass_genes.keys():\n",
    "            # ass_genes[key].append(goat_descendants[goat_descendants[0]==key].iloc[0][1]) медленно работает. Лучше со словарём\n",
    "            # По ключу = GO id находим число потомков и добавляем в список\n",
    "            ass_genes[key].append(goat_descendants_dict[key])\n",
    "        key_list = []\n",
    "        for k, v in ass_genes.items():\n",
    "            if 'Nan' in v:\n",
    "                continue\n",
    "            else:\n",
    "                key_list.append(k)\n",
    "        # pls noh8, это всё из-за прака по numpy'n'pandas и lambda functions. PS уже не нужно\n",
    "        # david68_ass_genes = pd.DataFrame({'Id': sorted(list(ass_genes.keys())), 'Associatiated genes quantity':[ass_genes[key] for key in sorted(list(ass_genes.keys()))]})\n",
    "        # делаем X-asis для графика. Потомки\n",
    "        x = []\n",
    "        for key in key_list:\n",
    "            x.append(ass_genes[key][1])\n",
    "        # делаем Y-asis для графика. Ассоц. гены\n",
    "        y = []\n",
    "        for key in key_list:\n",
    "            y.append(ass_genes[key][0])\n",
    "        plots[dataset] = []\n",
    "        plots[dataset].append(x)\n",
    "        plots[dataset].append(y)\n",
    "        plots[dataset].append(pearsonr(x, y))\n",
    "        return plots\n"
   ]
  },
  {
   "cell_type": "code",
   "execution_count": 37,
   "metadata": {},
   "outputs": [],
   "source": [
    "plot_info = dcnt_assg_count(datasets)"
   ]
  },
  {
   "cell_type": "code",
   "execution_count": 35,
   "metadata": {},
   "outputs": [
    {
     "data": {
      "text/plain": [
       "dict_keys([<class 'set'>])"
      ]
     },
     "execution_count": 35,
     "metadata": {},
     "output_type": "execute_result"
    }
   ],
   "source": [
    "plot_inf"
   ]
  },
  {
   "cell_type": "markdown",
   "metadata": {},
   "source": [
    "# Part #3: визуализация"
   ]
  },
  {
   "cell_type": "code",
   "execution_count": null,
   "metadata": {},
   "outputs": [],
   "source": [
    "import seaborn as sns\n",
    "sns.set(style=\"darkgrid\")\n",
    "a = concat_david68.dropna()\n",
    "a = sns.jointplot(x,y, kind=\"reg\")\n"
   ]
  },
  {
   "cell_type": "code",
   "execution_count": null,
   "metadata": {},
   "outputs": [],
   "source": [
    "# plot with various axes scales\n",
    "'''\n",
    "import matplotlib.pyplot as plt\n",
    "fig, axs = plt.subplots(2, 2, sharex=True)\n",
    "fig.subplots_adjust(left=0.08, right=0.98, wspace=0.3)\n",
    "\n",
    "# DAVID 6.7\n",
    "ax = axs[0, 0]\n",
    "ax.sns.jointplot(x,y, kind=\"reg\")\n",
    "ax.set_yscale('6.7')\n",
    "ax.set_title('6.7')\n",
    "ax.grid(True)'''\n",
    "\n",
    "'''\n",
    "# log\n",
    "ax = axs[0, 1]\n",
    "ax.plot(x, y)\n",
    "ax.set_yscale('log')\n",
    "ax.set_title('log')\n",
    "ax.grid(True)\n",
    "\n",
    "\n",
    "# symmetric log\n",
    "ax = axs[1, 1]\n",
    "ax.plot(x, y - y.mean())\n",
    "ax.set_yscale('symlog', linthreshy=0.02)\n",
    "ax.set_title('symlog')\n",
    "ax.grid(True)\n",
    "\n",
    "# logit\n",
    "ax = axs[1, 0]\n",
    "ax.plot(x, y)\n",
    "ax.set_yscale('logit')\n",
    "ax.set_title('logit')\n",
    "ax.grid(True)\n",
    "ax.yaxis.set_minor_formatter(NullFormatter())\n",
    "\n",
    "\n",
    "plt.show()'''"
   ]
  }
 ],
 "metadata": {
  "kernelspec": {
   "display_name": "Python 3",
   "language": "python",
   "name": "python3"
  },
  "language_info": {
   "codemirror_mode": {
    "name": "ipython",
    "version": 3
   },
   "file_extension": ".py",
   "mimetype": "text/x-python",
   "name": "python",
   "nbconvert_exporter": "python",
   "pygments_lexer": "ipython3",
   "version": "3.7.1"
  }
 },
 "nbformat": 4,
 "nbformat_minor": 2
}
