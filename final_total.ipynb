{
 "cells": [
  {
   "cell_type": "markdown",
   "metadata": {},
   "source": [
    "# FBB_Reproducibility GOATOOLS: A Python library for Gene Ontology analyses"
   ]
  },
  {
   "cell_type": "markdown",
   "metadata": {},
   "source": [
    "### Part #1.1: Подготовка датасета: DAVID 6.7, DAVID 6.8"
   ]
  },
  {
   "cell_type": "markdown",
   "metadata": {},
   "source": [
    "Для воспроизведения результатов статьи \"GOATOOLS: A Python library for Gene Ontology analyses\" (https://www.nature.com/articles/s41598-018-28948-z) были использованы данные из Supplementary Table 1 в статье \"Conserved epigenomic signals in mice and humans reveal immune basis of Alzheimer’s disease\" (https://www.ncbi.nlm.nih.gov/pmc/articles/PMC4530583/)."
   ]
  },
  {
   "cell_type": "markdown",
   "metadata": {},
   "source": [
    "Создавался файл с Ensembl ID, который в последствии подавался на вход различным тулам."
   ]
  },
  {
   "cell_type": "code",
   "execution_count": 1,
   "metadata": {},
   "outputs": [],
   "source": [
    "import pandas as pd\n",
    "df = pd.read_excel('nature14252-s1.xlsx', sheet_name='masterInfo.4.3.7.txt', header=1)\n",
    "cols = [4,9]\n",
    "new_df = df.drop(df.columns[cols], axis=1)\n",
    "new_df['Ensembl ID'].to_csv('Ensembl_ID.txt', sep='\\t', index=False, header=False)"
   ]
  },
  {
   "cell_type": "markdown",
   "metadata": {},
   "source": [
    "Код ниже выводит количество генов в определённом кластере. "
   ]
  },
  {
   "cell_type": "code",
   "execution_count": 2,
   "metadata": {},
   "outputs": [
    {
     "name": "stdout",
     "output_type": "stream",
     "text": [
      "Transient Increase = 624\n",
      "Consistent Increase = 794\n",
      "Late Increase = 1397\n",
      "Transient Decrease = 142\n",
      "Consistent Decrease = 1029\n",
      "Late Decrease = 1139\n",
      "Total = 13836\n"
     ]
    }
   ],
   "source": [
    "tr_in = (new_df.Cluster.values == 'Transient Increase').sum()\n",
    "con_in = (new_df.Cluster.values == 'Consistent Increase').sum()\n",
    "late_in = (new_df.Cluster.values == 'Late Increase').sum()\n",
    "tr_de = (new_df.Cluster.values == 'Transient Decrease').sum()\n",
    "con_de = (new_df.Cluster.values == 'Consistent Decrease').sum()\n",
    "late_de = (new_df.Cluster.values == 'Late Decrease').sum()\n",
    "none = (new_df.Cluster.values == 'None').sum()\n",
    "all_genes = tr_in + con_in + late_in + con_de + late_de + tr_de + none\n",
    "print('Transient Increase = ' + str(tr_in))\n",
    "print('Consistent Increase = ' + str(con_in))\n",
    "print('Late Increase = ' + str(late_in))\n",
    "print('Transient Decrease = ' + str(tr_de))\n",
    "print('Consistent Decrease = ' + str(con_de))\n",
    "print('Late Decrease = ' + str(late_de))\n",
    "print('Total = ' + str(all_genes))"
   ]
  },
  {
   "cell_type": "markdown",
   "metadata": {},
   "source": [
    "К сожалению, из-за большого списка генов (13836) использовать APi не рекомендовалось в DAVID 6.7 и 6.8, поэтому данные были поданы на вход вручную, а результат обработан далее в этом работе."
   ]
  },
  {
   "cell_type": "code",
   "execution_count": 3,
   "metadata": {},
   "outputs": [],
   "source": [
    "df68 = pd.read_csv('6.8_DIRECT.txt', sep=\"\\t\")\n",
    "df67 = pd.read_csv('6.7_ALL.txt', sep=\"\\t\")\n",
    "df68['PValue'].to_csv('6.8_PValue.txt', sep='\\t', index=False, header=False)\n",
    "df67['PValue'].to_csv('6.7_PValue.txt', sep='\\t', index=False, header=False)"
   ]
  },
  {
   "cell_type": "markdown",
   "metadata": {},
   "source": [
    "### Part #1.2: Подготовка датасета: GOATools"
   ]
  },
  {
   "cell_type": "markdown",
   "metadata": {},
   "source": [
    "Подготовку GOstats мы не делали, так как она осуществляется с помощью R, а у нас лапки"
   ]
  },
  {
   "cell_type": "code",
   "execution_count": 5,
   "metadata": {},
   "outputs": [],
   "source": [
    "from goatools.base import download_go_basic_obo\n",
    "import os\n",
    "if not os.path.exists('go-basic.obo'):\n",
    "    # Get http://geneontology.org/ontology/go-basic.obo\n",
    "    download_go_basic_obo()\n"
   ]
  },
  {
   "cell_type": "code",
   "execution_count": 6,
   "metadata": {},
   "outputs": [
    {
     "name": "stderr",
     "output_type": "stream",
     "text": [
      "  wget.download(ftp://ftp.ncbi.nlm.nih.gov/gene/DATA/gene2go.gz out=gene2go.gz)\n"
     ]
    },
    {
     "name": "stdout",
     "output_type": "stream",
     "text": [
      "  gunzip gene2go.gz\n"
     ]
    }
   ],
   "source": [
    "from goatools.base import download_ncbi_associations  # Download Associations\n",
    "fin_gene2go = download_ncbi_associations() # занимает много времени: ~20mins\n"
   ]
  },
  {
   "cell_type": "code",
   "execution_count": 7,
   "metadata": {},
   "outputs": [
    {
     "name": "stdout",
     "output_type": "stream",
     "text": [
      "load obo file go-basic.obo\n",
      "go-basic.obo: fmt(1.2) rel(2019-05-09) 47,407 GO Terms\n"
     ]
    }
   ],
   "source": [
    "from goatools.obo_parser import GODag\n",
    "obodag = GODag(\"go-basic.obo\")  # Load Ontologies\n"
   ]
  },
  {
   "cell_type": "code",
   "execution_count": 8,
   "metadata": {},
   "outputs": [
    {
     "ename": "ModuleNotFoundError",
     "evalue": "No module named 'goatools.anno.genetogo_reader'",
     "output_type": "error",
     "traceback": [
      "\u001b[1;31m---------------------------------------------------------------------------\u001b[0m",
      "\u001b[1;31mModuleNotFoundError\u001b[0m                       Traceback (most recent call last)",
      "\u001b[1;32m<ipython-input-8-78ddd0725471>\u001b[0m in \u001b[0;36m<module>\u001b[1;34m\u001b[0m\n\u001b[1;32m----> 1\u001b[1;33m \u001b[1;32mfrom\u001b[0m \u001b[0mgoatools\u001b[0m\u001b[1;33m.\u001b[0m\u001b[0manno\u001b[0m\u001b[1;33m.\u001b[0m\u001b[0mgenetogo_reader\u001b[0m \u001b[1;32mimport\u001b[0m \u001b[0mGene2GoReader\u001b[0m\u001b[1;33m\u001b[0m\u001b[1;33m\u001b[0m\u001b[0m\n\u001b[0m\u001b[0;32m      2\u001b[0m \u001b[1;33m\u001b[0m\u001b[0m\n\u001b[0;32m      3\u001b[0m \u001b[1;31m# Read NCBI's gene2go. Store annotations in a list of namedtuples\u001b[0m\u001b[1;33m\u001b[0m\u001b[1;33m\u001b[0m\u001b[1;33m\u001b[0m\u001b[0m\n\u001b[0;32m      4\u001b[0m \u001b[0mobjanno\u001b[0m \u001b[1;33m=\u001b[0m \u001b[0mGene2GoReader\u001b[0m\u001b[1;33m(\u001b[0m\u001b[0mfin_gene2go\u001b[0m\u001b[1;33m,\u001b[0m \u001b[0mtaxids\u001b[0m\u001b[1;33m=\u001b[0m\u001b[1;33m[\u001b[0m\u001b[1;36m10090\u001b[0m\u001b[1;33m]\u001b[0m\u001b[1;33m)\u001b[0m\u001b[1;33m\u001b[0m\u001b[1;33m\u001b[0m\u001b[0m\n\u001b[0;32m      5\u001b[0m \u001b[1;33m\u001b[0m\u001b[0m\n",
      "\u001b[1;31mModuleNotFoundError\u001b[0m: No module named 'goatools.anno.genetogo_reader'"
     ]
    }
   ],
   "source": [
    "from goatools.anno.genetogo_reader import Gene2GoReader\n",
    "\n",
    "# Read NCBI's gene2go. Store annotations in a list of namedtuples\n",
    "objanno = Gene2GoReader(fin_gene2go, taxids=[10090])\n",
    "\n",
    "# Get namespace2association where:\n",
    "#    namespace is:\n",
    "#        BP: biological_process\n",
    "#        MF: molecular_function\n",
    "#        CC: cellular_component\n",
    "#    assocation is a dict:\n",
    "#        key: NCBI GeneID\n",
    "#        value: A set of GO IDs associated with that gene\n",
    "ns2assoc = objanno.get_ns2assc()\n",
    "\n",
    "for nspc, id2gos in ns2assoc.items():\n",
    "    print(\"{NS} {N:,} annotated mouse genes\".format(NS=nspc, N=len(id2gos)))\n",
    "    for protein_id, go_ids in sorted(id2gos.items())[:3]:\n",
    "        print(\"{NS} {PROT:7} : {GOs}\".format(\n",
    "            NS=nspc,\n",
    "            PROT=protein_id,\n",
    "            GOs=' '.join(sorted(go_ids))))\n"
   ]
  },
  {
   "cell_type": "code",
   "execution_count": null,
   "metadata": {},
   "outputs": [],
   "source": [
    "from goatools.test_data.genes_NCBI_10090_ProteinCoding import GENEID2NT as GeneID2nt_mus\n",
    "from goatools.goea.go_enrichment_ns import GOEnrichmentStudyNS\n",
    "\n",
    "goeaobj = GOEnrichmentStudyNS(\n",
    "    GeneID2nt_mus.keys(),  # List of mouse protein-coding genes\n",
    "    ns2assoc,  # geneid/GO associations\n",
    "    obodag,  # Ontologies\n",
    "    propagate_counts=False,\n",
    "    alpha=0.05,  # default significance cut-off\n",
    "    methods=['fdr_bh'])  # defult multipletest correction method\n"
   ]
  },
  {
   "cell_type": "code",
   "execution_count": null,
   "metadata": {},
   "outputs": [],
   "source": [
    "geneid2symbol = {}\n",
    "# Read data\n",
    "if os.path.isfile(\"dataf.xlsx\"):\n",
    "    import xlrd\n",
    "    book = xlrd.open_workbook(\"dataf.xlsx\")\n",
    "    pg = book.sheet_by_index(0)\n",
    "    for r in range(pg.nrows):\n",
    "        symbol, geneid, pval = [pg.cell_value(r, c) for c in range(pg.ncols)]\n",
    "        if geneid:\n",
    "            geneid2symbol[int(geneid)] = symbol\n",
    "    print('{N} genes READ: {XLSX}'.format(N=len(geneid2symbol), XLSX=\"dataf.xlsx\"))\n",
    "else:\n",
    "    raise RuntimeError('FILE NOT FOUND: {XLSX}'.format(XLSX=\"dataf.xlsx\"))\n"
   ]
  },
  {
   "cell_type": "code",
   "execution_count": null,
   "metadata": {},
   "outputs": [],
   "source": [
    "geneids_study = geneid2symbol.keys()\n",
    "goea_results_all = goeaobj.run_study(geneids_study)\n",
    "goea_results_sig = [r for r in goea_results_all if r.p_fdr_bh < 0.05]"
   ]
  },
  {
   "cell_type": "code",
   "execution_count": null,
   "metadata": {},
   "outputs": [],
   "source": [
    "# Для удосбтва пишем в xls, потому что в txt есть как \\t так и пробелы. Неудобно читать в df\n",
    "goeaobj.wr_xlsx(\"nbt3102.xlsx\", goea_results_sig)\n",
    "# Для скорости пишем в txt формат\n",
    "# goeaobj.wr_txt(\"nbt3102.txt\", goea_results_sig)"
   ]
  },
  {
   "cell_type": "markdown",
   "metadata": {},
   "source": [
    "### Part 2: Обработка датасета"
   ]
  },
  {
   "cell_type": "code",
   "execution_count": null,
   "metadata": {},
   "outputs": [],
   "source": [
    "from goatools import obo_parser as op\n",
    "from goatools.base import download_go_basic_obo\n",
    "import os\n",
    "if not os.path.exists('go-basic.obo'):\n",
    "    # Get http://geneontology.org/ontology/go-basic.obo\n",
    "    download_go_basic_obo()\n",
    "# Holds a GO Directed Acyclic Graph (DAG) as a dict. Дополнительная опция relationship для того, чтобы подтянуть relationships\n",
    "# из 'go-basic.obo'. По дефолту отключён для оптимизации работы программы\n",
    "go = op.GODag('go-basic.obo', optional_attrs=['relationship'])\n"
   ]
  },
  {
   "cell_type": "code",
   "execution_count": null,
   "metadata": {},
   "outputs": [],
   "source": [
    "# Создаём .csv в формате 'GO id,all_lowers\\n'\n",
    "with open('descendants_quantity.csv', 'w') as output:\n",
    "    ids = []\n",
    "    for id in go:\n",
    "        # Метод DAGTerm.get_all_lower() возвращает всех детей=потомков\n",
    "        # (=поля 'relationshipis' + инвертированное 'is_a'\n",
    "        to_write = id + ',' + str(len(go[id].get_all_lower())) + '\\n'\n",
    "        output.write(to_write)\n"
   ]
  },
  {
   "cell_type": "code",
   "execution_count": null,
   "metadata": {},
   "outputs": [],
   "source": [
    "import pandas as pd\n",
    "goat_descendants = pd.read_csv(\n",
    "    'descendants_quantity.csv',\n",
    "    sep=',',\n",
    "    header=None)\n",
    "goat_descendants_dict = {}\n",
    "# Делаем словарь в формате ключ-GO id, значение- число потомков\n",
    "for row in goat_descendants.itertuples():\n",
    "    goat_descendants_dict[row[1]] = row[2]\n"
   ]
  },
  {
   "cell_type": "code",
   "execution_count": null,
   "metadata": {},
   "outputs": [],
   "source": [
    "import numpy as np\n",
    "from scipy.stats import pearsonr\n",
    "# Необходим скачанный датасет. Число генов слишком большое для использования Api =>\n",
    "# => необходимо вручную загрузить на сайт\n",
    "# Названия датасетов могут отличаться :) так что нужно писать ваше\n",
    "\n",
    "\n",
    "data = [\"nbt3102.xlsx\", \"6.8_DIRECT.txt\", \"6.7_ALL.txt\"]\n",
    "\n",
    "def dcnt_assg_count():\n",
    "    global data\n",
    "    pearsonrs = []\n",
    "    plots = {}\n",
    "    for dataset in data:\n",
    "        # Разделяем столбец Term по тильде '~' и добавляем новообразовавшиеся 2\n",
    "        # столбца в конце датафрейма\n",
    "        if dataset != \"nbt3102.xlsx\":\n",
    "            df = pd.read_csv(dataset, sep='\\t')\n",
    "            df[['Id', 'Description']] = df.Term.str.split(\"~\", expand=True)\n",
    "        else:\n",
    "            df = pd.read_excel(\"nbt3102.xlsx\", header=0, sheet_name=\"Sheet1\")\n",
    "            df.rename(\n",
    "                columns={\n",
    "                    'GO': 'Id',\n",
    "                    'study_items': 'Genes',\n",
    "                    'p_fdr_bh': 'PValue'},\n",
    "                inplace=True)\n",
    "        # Отсев потенциально случайных находок. P-value <= 0.05\n",
    "        df = df[df['PValue'] <= 0.05]\n",
    "        ass_genes = {}\n",
    "        # Для каждого GO id в goat_descendants находим соответствующее ему число ассоциированных белков и добавляет в словарь по ключу\n",
    "        # этого GO id. Проверяем, находится ли вообще строка с таким GO id. Если нет - Nan.\n",
    "        # В итоге получаем словарь, где ключи - все последовательно идущие GO\n",
    "        # id в исходном go-basic.obo, а значения - число ассоц.генов\n",
    "        for id in goat_descendants[0]:\n",
    "            ass_genes[id] = []\n",
    "            if len(df[df['Id'] == id]) != 0:\n",
    "                a = df[df['Id'] == id].iloc[0]['Genes']\n",
    "                b = len(str(a).split(\",\"))\n",
    "                ass_genes[id].append(b)\n",
    "            else:\n",
    "                ass_genes[id].append(\"NaN\")\n",
    "            '''if len(df[df['Id'] == id]) == 0:\n",
    "                ass_genes_num = \"NaN\"\n",
    "                ass_genes[id] = [ass_genes_num]\n",
    "            else:\n",
    "                if type(df[df['Id'] == id].iloc[0]['Genes'])'''                                    \n",
    "        # Идём по ключам словаря с ассоц.генами, находим совпадение в df с\n",
    "        # числом потомков, добавляет в список по ключу число потомков\n",
    "        for key in ass_genes.keys():\n",
    "            # ass_genes[key].append(goat_descendants[goat_descendants[0]==key].iloc[0][1]) медленно работает. Лучше со словарём\n",
    "            # По ключу = GO id находим число потомков и добавляем в список\n",
    "            ass_genes[key].append(goat_descendants_dict[key])\n",
    "        key_list = []\n",
    "        for k, v in ass_genes.items():\n",
    "            if 'NaN' in v or 0 in v:\n",
    "                continue\n",
    "            else:\n",
    "                if v[1] <= 1000 and v[0] <= 200:\n",
    "                    key_list.append(k)\n",
    "                else:\n",
    "                    continue\n",
    "        # pls noh8, это всё из-за прака по numpy'n'pandas и lambda functions. PS уже не нужно\n",
    "        # david68_ass_genes = pd.DataFrame({'Id': sorted(list(ass_genes.keys())), 'Associatiated genes quantity':[ass_genes[key] for key in sorted(list(ass_genes.keys()))]})\n",
    "        \n",
    "        # делаем X-asis для графика. Потомки\n",
    "        x = []\n",
    "        for key in key_list:\n",
    "            x.append(ass_genes[key][1])\n",
    "        # делаем Y-asis для графика. Ассоц. гены\n",
    "        y = []\n",
    "        for key in key_list:\n",
    "            y.append(ass_genes[key][0])\n",
    "        plots[dataset] = []\n",
    "        plots[dataset].append(x)\n",
    "        plots[dataset].append(y)\n",
    "        plots[dataset].append(pearsonr(x, y))\n",
    "    return plots\n"
   ]
  },
  {
   "cell_type": "code",
   "execution_count": null,
   "metadata": {},
   "outputs": [],
   "source": [
    "plot_info = dcnt_assg_count()\n",
    "plot_info.keys()"
   ]
  },
  {
   "cell_type": "markdown",
   "metadata": {},
   "source": [
    "# Part #3: визуализация"
   ]
  },
  {
   "cell_type": "code",
   "execution_count": null,
   "metadata": {},
   "outputs": [],
   "source": [
    "import seaborn as sns\n",
    "import matplotlib.pyplot as plt\n",
    "sns.set(style=\"darkgrid\")\n",
    "\n",
    "\n",
    "def printer(n):\n",
    "    a = data[n] + ': Fig. ' + str(n + 1) + ' | pearsonr=' + str(\n",
    "        round(plot_info[data[n]][2][0], 2)) + ' | p=' + str(plot_info[data[n]][2][1])\n",
    "    return a\n",
    "\n",
    "\n",
    "print(printer(0) + \" | original: Fig. 5B1: 0.4, 1.2e-17\")\n",
    "a = sns.jointplot(plot_info[data[0]][0],\n",
    "                  plot_info[data[0]][1],\n",
    "                  kind=\"reg\",\n",
    "                  ylim=(-25,\n",
    "                        200),\n",
    "                  xlim=(-125,\n",
    "                        1000),\n",
    "                  color='#A3DAC9')\n"
   ]
  },
  {
   "cell_type": "code",
   "execution_count": null,
   "metadata": {},
   "outputs": [],
   "source": [
    "print(printer(2) + \" | original: Fig. 5B3: 0.88, 1.1e-158\")\n",
    "c = sns.jointplot(plot_info[data[2]][0],\n",
    "                  plot_info[data[2]][1],\n",
    "                  kind=\"reg\",\n",
    "                  ylim=(-25,\n",
    "                        200),\n",
    "                  xlim=(-125,\n",
    "                        1000),\n",
    "                  color='#FDBBA1')\n"
   ]
  },
  {
   "cell_type": "code",
   "execution_count": null,
   "metadata": {},
   "outputs": [],
   "source": [
    "print(printer(1) + \" | original: Fig. 5B3: 0.4, 2.4e-13\")\n",
    "b = sns.jointplot(plot_info[data[1]][0],\n",
    "                  plot_info[data[1]][1],\n",
    "                  kind=\"reg\",\n",
    "                  ylim=(-25,\n",
    "                        200),\n",
    "                  xlim=(-125,\n",
    "                        1000),\n",
    "                  color='#BBC6E0')\n"
   ]
  },
  {
   "cell_type": "code",
   "execution_count": null,
   "metadata": {},
   "outputs": [],
   "source": [
    "import pandas as pd\n",
    "df = pd.read_excel('dataset.xlsx', sheet_name='Sheet2', header=0)\n",
    "a = sns.lmplot(x='discrete', y='pvalue', data=df, x_jitter=.15, fit_reg=False)\n",
    "a = sns.boxplot(x='discrete', y='pvalue', data=df)\n",
    "a= plt.gca()\n",
    "a.set_title(\"Fig. 5D: GOATools, DAVID v6.8, DAVID v6.8\")"
   ]
  },
  {
   "cell_type": "code",
   "execution_count": null,
   "metadata": {},
   "outputs": [],
   "source": []
  }
 ],
 "metadata": {
  "kernelspec": {
   "display_name": "Python 3",
   "language": "python",
   "name": "python3"
  },
  "language_info": {
   "codemirror_mode": {
    "name": "ipython",
    "version": 3
   },
   "file_extension": ".py",
   "mimetype": "text/x-python",
   "name": "python",
   "nbconvert_exporter": "python",
   "pygments_lexer": "ipython3",
   "version": "3.6.8"
  }
 },
 "nbformat": 4,
 "nbformat_minor": 2
}
