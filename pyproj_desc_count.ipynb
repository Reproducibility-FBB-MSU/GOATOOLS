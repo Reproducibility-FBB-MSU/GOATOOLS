{
 "cells": [
  {
   "cell_type": "code",
   "execution_count": 68,
   "metadata": {},
   "outputs": [
    {
     "name": "stdout",
     "output_type": "stream",
     "text": [
      "go-basic.obo: fmt(1.2) rel(2019-05-09) 47,407 GO Terms; optional_attrs(relationship)\n"
     ]
    }
   ],
   "source": [
    "from goatools import obo_parser as op\n",
    "# Holds a GO Directed Acyclic Graph (DAG) as a dict. Дополнительная опция relationship для того, чтобы подтянуть relationships\n",
    "# из 'go-basic.obo'. По дефолту отключён для оптимизации работы программы\n",
    "go = op.GODag('go-basic.obo', optional_attrs=['relationship']) "
   ]
  },
  {
   "cell_type": "code",
   "execution_count": 69,
   "metadata": {},
   "outputs": [],
   "source": [
    "# Создаём .csv в формате 'GO id,all_lowers\\n' \n",
    "with open('descendants_quantity.csv', 'w') as output:\n",
    "    ids = []\n",
    "    for id in go:\n",
    "        # Метод DAGTerm.get_all_lower() возвращает всех детей=потомков(=поля 'relationshipis' + инвертированное 'is_a'\n",
    "        to_write = id + ',' + str(len(go[id].get_all_lower())) + '\\n'\n",
    "        output.write(to_write)"
   ]
  },
  {
   "cell_type": "code",
   "execution_count": 70,
   "metadata": {},
   "outputs": [],
   "source": [
    "import pandas as pd\n",
    "goat_descendants = pd.read_csv('descendants_quantity.csv', sep=',', header=None)\n",
    "goat_descendants_dict = {}\n",
    "df = pd.read_csv('6.8_DIRECT.txt', sep='\\t')\n",
    "df = df[df['PValue'] <= 0.05] # Отсев потенциально случайных находок. P-value <= 0.05"
   ]
  },
  {
   "cell_type": "code",
   "execution_count": 71,
   "metadata": {},
   "outputs": [],
   "source": [
    "# Делаем словарь в формате ключ-GO id, значение- число потомков\n",
    "for row in goat_descendants.itertuples():\n",
    "    goat_descendants_dict[row[1]] = row[2]"
   ]
  },
  {
   "cell_type": "code",
   "execution_count": 72,
   "metadata": {},
   "outputs": [],
   "source": [
    "import numpy as np\n",
    "# Разделяем столбец Term по тильде '~' и добавляем новообразовавшиеся 2 столбца в конце датафрейма\n",
    "df[['Id', 'Description']] = df.Term.str.split(\"~\",expand=True)\n",
    "ass_genes = {}\n",
    "# Для каждого GO id в goat_descendants находим соответствующее ему число ассоциированных белков и добавляет в словарь по ключу \n",
    "# этого GO id. Проверяем, находится ли вообще строка с таким GO id. Если нет - Nan.\n",
    "# В итоге получаем словарь, где ключи - все последовательно идущие GO id в исходном go-basic.obo, а значения - число ассоц.генов\n",
    "for id in goat_descendants[0]:\n",
    "    ass_genes_num = 0 if len(df[df['Id'] == id])==0 else len(df[df['Id'] == id].iloc[0]['Genes'].split(','))\n",
    "    ass_genes[id] = [ass_genes_num]\n"
   ]
  },
  {
   "cell_type": "code",
   "execution_count": 73,
   "metadata": {},
   "outputs": [],
   "source": [
    "# Идём по ключам словаря с ассоц.генами, находим совпадение в df с числом потомков, добавляет в список по ключу число потомков\n",
    "for key in ass_genes.keys():\n",
    "    # ass_genes[key].append(goat_descendants[goat_descendants[0]==key].iloc[0][1]) медленно работает. Лучше со словарём\n",
    "    # По ключу = GO id находим число потомков и добавляем в список\n",
    "    ass_genes[key].append(goat_descendants_dict[key])"
   ]
  },
  {
   "cell_type": "code",
   "execution_count": 74,
   "metadata": {},
   "outputs": [],
   "source": [
    "# Удалить Nan. Если они должны быть нулями - то заменить ранее, в предпредыдущей ячейке.\n",
    "key_list = []\n",
    "for k, v in ass_genes.items():\n",
    "    if 'Nan' in v:\n",
    "        continue\n",
    "    else:\n",
    "        key_list.append(k)\n",
    "# pls noh8, это всё из-за прака по numpy'n'pandas и lambda functions. PS уже не нужно\n",
    "# david68_ass_genes = pd.DataFrame({'Id': sorted(list(ass_genes.keys())), 'Associatiated genes quantity':[ass_genes[key] for key in sorted(list(ass_genes.keys()))]})"
   ]
  },
  {
   "cell_type": "code",
   "execution_count": 75,
   "metadata": {},
   "outputs": [],
   "source": [
    "# делаем X-asis для графика. Потомки\n",
    "x = []\n",
    "for key in key_list:\n",
    "    x.append(ass_genes[key][1])\n",
    "# делаем Y-asis для графика. Ассоц. гены\n",
    "y = []\n",
    "for key in key_list:\n",
    "    y.append(ass_genes[key][0])\n"
   ]
  },
  {
   "cell_type": "code",
   "execution_count": 76,
   "metadata": {},
   "outputs": [
    {
     "data": {
      "text/plain": [
       "(0.04965071367832317, 2.8626696251454243e-27)"
      ]
     },
     "execution_count": 76,
     "metadata": {},
     "output_type": "execute_result"
    }
   ],
   "source": [
    "from scipy.stats import pearsonr\n",
    "pearsonr(x, y)\n"
   ]
  },
  {
   "cell_type": "code",
   "execution_count": 77,
   "metadata": {},
   "outputs": [
    {
     "data": {
      "text/plain": [
       "<seaborn.axisgrid.JointGrid at 0x271f6b09860>"
      ]
     },
     "execution_count": 77,
     "metadata": {},
     "output_type": "execute_result"
    },
    {
     "data": {
      "image/png": "[encoded data removed]",
      "text/plain": [
       "<Figure size 432x432 with 3 Axes>"
      ]
     },
     "metadata": {},
     "output_type": "display_data"
    }
   ],
   "source": [
    "import seaborn as sns\n",
    "sns.set(style=\"darkgrid\")\n",
    "#a = concat_david68.dropna()\n",
    "#tips = sns.load_dataset(\"tips\")\n",
    "a = sns.jointplot(x,y, kind=\"reg\")\n",
    "a"
   ]
  },
  {
   "cell_type": "code",
   "execution_count": null,
   "metadata": {},
   "outputs": [],
   "source": [
    "{ \"scatter\" | \"reg\" | \"resid\" | \"kde\" | \"hex\" }"
   ]
  }
 ],
 "metadata": {
  "kernelspec": {
   "display_name": "Python 3",
   "language": "python",
   "name": "python3"
  },
  "language_info": {
   "codemirror_mode": {
    "name": "ipython",
    "version": 3
   },
   "file_extension": ".py",
   "mimetype": "text/x-python",
   "name": "python",
   "nbconvert_exporter": "python",
   "pygments_lexer": "ipython3",
   "version": "3.6.8"
  }
 },
 "nbformat": 4,
 "nbformat_minor": 2
}
