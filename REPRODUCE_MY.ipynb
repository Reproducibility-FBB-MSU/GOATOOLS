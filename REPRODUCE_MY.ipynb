{
 "cells": [
  {
   "cell_type": "markdown",
   "metadata": {},
   "source": [
    "# FBB_Reproducibility GOATOOLS: A Python library for Gene Ontology analyses"
   ]
  },
  {
   "cell_type": "markdown",
   "metadata": {},
   "source": [
    "Для воспроизведения результатов статьи \"GOATOOLS: A Python library for Gene Ontology analyses\" (https://www.nature.com/articles/s41598-018-28948-z) были использованы данные из Supplementary Table 1 в статье \"Conserved epigenomic signals in mice and humans reveal immune basis of Alzheimer’s disease\" (https://www.ncbi.nlm.nih.gov/pmc/articles/PMC4530583/)."
   ]
  },
  {
   "cell_type": "markdown",
   "metadata": {},
   "source": [
    "Создавался файл с Ensembl ID, который в последствии подавался на вход различным тулам."
   ]
  },
  {
   "cell_type": "code",
   "execution_count": 7,
   "metadata": {},
   "outputs": [],
   "source": [
    "import pandas as pd\n",
    "import numpy as np\n",
    "\n",
    "df = pd.read_excel('nature14252-s1.xlsx', sheet_name='masterInfo.4.3.7.txt', header=1)\n",
    "cols = [4,9]\n",
    "new_df = df.drop(df.columns[cols], axis=1)\n",
    "new_df['Ensembl ID'].to_csv('Ensembl_ID.txt', sep='\\t', index=False)"
   ]
  },
  {
   "cell_type": "markdown",
   "metadata": {},
   "source": [
    "Код ниже выводит количество генов в определённом кластере. "
   ]
  },
  {
   "cell_type": "code",
   "execution_count": 6,
   "metadata": {},
   "outputs": [
    {
     "name": "stdout",
     "output_type": "stream",
     "text": [
      "Transient Increase = 624\n",
      "Consistent Increase = 794\n",
      "Late Increase = 1397\n",
      "Transient Decrease = 142\n",
      "Consistent Decrease = 1029\n",
      "Late Decrease = 1139\n",
      "Total = 13836\n"
     ]
    }
   ],
   "source": [
    "tr_in = (new_df.Cluster.values == 'Transient Increase').sum()\n",
    "con_in = (new_df.Cluster.values == 'Consistent Increase').sum()\n",
    "late_in = (new_df.Cluster.values == 'Late Increase').sum()\n",
    "tr_de = (new_df.Cluster.values == 'Transient Decrease').sum()\n",
    "con_de = (new_df.Cluster.values == 'Consistent Decrease').sum()\n",
    "late_de = (new_df.Cluster.values == 'Late Decrease').sum()\n",
    "none = (new_df.Cluster.values == 'None').sum()\n",
    "all_genes = tr_in + con_in + late_in + con_de + late_de + tr_de + none\n",
    "print('Transient Increase = ' + str(tr_in))\n",
    "print('Consistent Increase = ' + str(con_in))\n",
    "print('Late Increase = ' + str(late_in))\n",
    "print('Transient Decrease = ' + str(tr_de))\n",
    "print('Consistent Decrease = ' + str(con_de))\n",
    "print('Late Decrease = ' + str(late_de))\n",
    "print('Total = ' + str(all_genes))"
   ]
  },
  {
   "cell_type": "markdown",
   "metadata": {},
   "source": [
    "К сожалению, из-за большого списка генов (13836) использовать API не рекомендовалось в DAVID 6.7 и 6.8, поэтому данные были поданы на вход вручную, которые впоследствии обрабатывались python."
   ]
  },
  {
   "cell_type": "code",
   "execution_count": 8,
   "metadata": {},
   "outputs": [],
   "source": [
    "df68 = pd.read_csv('6.8_DIRECT.txt', sep=\"\\t\")\n",
    "df67 = pd.read_csv('6.7_ALL.txt', sep=\"\\t\")\n",
    "df68['PValue'].to_csv('6.8_PValue.txt', sep='\\t', index=False)\n",
    "df67['PValue'].to_csv('6.7_PValue.txt', sep='\\t', index=False)"
   ]
  }
 ],
 "metadata": {
  "kernelspec": {
   "display_name": "Python 3",
   "language": "python",
   "name": "python3"
  },
  "language_info": {
   "codemirror_mode": {
    "name": "ipython",
    "version": 3
   },
   "file_extension": ".py",
   "mimetype": "text/x-python",
   "name": "python",
   "nbconvert_exporter": "python",
   "pygments_lexer": "ipython3",
   "version": "3.7.1"
  }
 },
 "nbformat": 4,
 "nbformat_minor": 2
}
